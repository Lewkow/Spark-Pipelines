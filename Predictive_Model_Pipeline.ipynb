{
 "cells": [
  {
   "cell_type": "code",
   "execution_count": 1,
   "metadata": {},
   "outputs": [],
   "source": [
    "import requests\n",
    "import json\n",
    "from ES import ES as es\n",
    "from pyspark.sql import Row\n",
    "from pyspark.ml.linalg import Vectors\n",
    "import numpy as np"
   ]
  },
  {
   "cell_type": "code",
   "execution_count": 2,
   "metadata": {},
   "outputs": [],
   "source": [
    "from pyspark import SparkContext, SparkConf\n",
    "conf = SparkConf().setAppName(\"testapp\")\n",
    "sc = SparkContext(conf=conf)"
   ]
  },
  {
   "cell_type": "code",
   "execution_count": 3,
   "metadata": {},
   "outputs": [],
   "source": [
    "from pyspark.sql import SparkSession\n",
    "spark = SparkSession.builder \\\n",
    "    .master(\"local\") \\\n",
    "    .appName(\"testapp\") \\\n",
    "    .getOrCreate()"
   ]
  },
  {
   "cell_type": "code",
   "execution_count": 4,
   "metadata": {},
   "outputs": [
    {
     "data": {
      "text/plain": [
       "'2.4.5'"
      ]
     },
     "execution_count": 4,
     "metadata": {},
     "output_type": "execute_result"
    }
   ],
   "source": [
    "sc.version"
   ]
  },
  {
   "cell_type": "code",
   "execution_count": 5,
   "metadata": {},
   "outputs": [],
   "source": [
    "lines = sc.textFile(\"README.md\")\n",
    "lineLengths = lines.map(lambda s: len(s))\n",
    "totalLength = lineLengths.reduce(lambda a, b: a + b)"
   ]
  },
  {
   "cell_type": "code",
   "execution_count": 6,
   "metadata": {},
   "outputs": [
    {
     "name": "stdout",
     "output_type": "stream",
     "text": [
      "['# Spark Docker Jupyter', 'This is a readme for this test']\n"
     ]
    }
   ],
   "source": [
    "print(lines.take(20))"
   ]
  },
  {
   "cell_type": "code",
   "execution_count": 7,
   "metadata": {},
   "outputs": [],
   "source": [
    "query = {\n",
    "            \"size\": 10000,\n",
    "             \"query\": {\n",
    "                \"bool\": {\n",
    "                    \"must\": [\n",
    "                        {\n",
    "                            \"term\": {\n",
    "                                \"enhancement.IDENTIFIERS.SIGNATURE_ID\": {\n",
    "                                    \"value\": \"198\"\n",
    "                                }\n",
    "                            }\n",
    "                        },\n",
    "                        {\n",
    "                            \"range\": {\n",
    "                                \"pipeline.lambda\": {\n",
    "                                    \"gte\": \"2019-01-01T00:00:52Z\"\n",
    "                                }\n",
    "                            }\n",
    "                        },\n",
    "                        {\n",
    "                            \"term\": {\n",
    "                                \"application_id\": {\n",
    "                                    \"value\": \"3\"\n",
    "                                }\n",
    "                            }\n",
    "                        },\n",
    "                        {\n",
    "                            \"term\": {\n",
    "                                \"property_state\": {\n",
    "                                    \"value\": \"CO\"\n",
    "                                }\n",
    "                            }\n",
    "                        }\n",
    "                    ]\n",
    "                }\n",
    "             }\n",
    "        }"
   ]
  },
  {
   "cell_type": "code",
   "execution_count": 8,
   "metadata": {},
   "outputs": [],
   "source": [
    "db = es()"
   ]
  },
  {
   "cell_type": "code",
   "execution_count": 9,
   "metadata": {},
   "outputs": [
    {
     "name": "stdout",
     "output_type": "stream",
     "text": [
      "scroll_size: 2852\n"
     ]
    }
   ],
   "source": [
    "response = db.get_data_from_ES_prod_scroll(query)"
   ]
  },
  {
   "cell_type": "code",
   "execution_count": 10,
   "metadata": {},
   "outputs": [],
   "source": [
    "prop_list = []\n",
    "for i in range(len(response)):\n",
    "    for j in range(len(response[i]['hits']['hits'])):\n",
    "        prop_list.append(response[i]['hits']['hits'][j])"
   ]
  },
  {
   "cell_type": "code",
   "execution_count": 11,
   "metadata": {},
   "outputs": [
    {
     "name": "stdout",
     "output_type": "stream",
     "text": [
      "2852\n"
     ]
    }
   ],
   "source": [
    "print(len(prop_list))"
   ]
  },
  {
   "cell_type": "code",
   "execution_count": 12,
   "metadata": {},
   "outputs": [],
   "source": [
    "prop_rdd = sc.parallelize(prop_list)"
   ]
  },
  {
   "cell_type": "code",
   "execution_count": 13,
   "metadata": {},
   "outputs": [
    {
     "data": {
      "text/plain": [
       "2852"
      ]
     },
     "execution_count": 13,
     "metadata": {},
     "output_type": "execute_result"
    }
   ],
   "source": [
    "prop_rdd.count()"
   ]
  },
  {
   "cell_type": "code",
   "execution_count": 52,
   "metadata": {},
   "outputs": [],
   "source": [
    "def feature_builder(x):\n",
    "    def cleaner(z):\n",
    "        return 0 if z is None else z\n",
    "\n",
    "    prop_lat =      float(cleaner(x.get('_source', {}).get('prop_latitude', 0.0)))\n",
    "    prop_lon =      float(cleaner(x.get('_source', {}).get('prop_longitude', 0.0)))\n",
    "    listing_price = float(cleaner(x.get('_source', {}).get('prop_listprice_i', 0.0)))\n",
    "    sold_price =    float(cleaner(x.get('_source', {}).get('sold_price', 0.0)))\n",
    "    acres =         float(cleaner(x.get('_source', {}).get('prop_acres', 0.0)))\n",
    "    year_built =    int(cleaner(x.get('_source', {}).get('prop_yearbuilt', 0)))\n",
    "    baths =         int(cleaner(x.get('_source', {}).get('total_baths', 0)))\n",
    "    beds =          int(cleaner(x.get('_source', {}).get('prop_beds', 0)))\n",
    "#     features_row =  list([prop_lat, prop_lon, listing_price, year_built, baths, beds, acres])\n",
    "    \n",
    "    feature_row = Row(\n",
    "        prop_lat=prop_lat,\n",
    "        prop_lon=prop_lon,\n",
    "        sold_price=sold_price,\n",
    "        year_built=year_built,\n",
    "        baths=baths,\n",
    "        beds=beds,\n",
    "        acres=acres,\n",
    "        listing_price=listing_price,\n",
    "#         features=features_row,\n",
    "        label=sold_price\n",
    "# #         features=Vectors.dense([prop_lat, prop_lon, listing_price, year_built, baths]),\n",
    "#         label=Vectors.dense(sold_price)\n",
    "    )\n",
    "    return feature_row"
   ]
  },
  {
   "cell_type": "code",
   "execution_count": 53,
   "metadata": {},
   "outputs": [
    {
     "data": {
      "text/plain": [
       "Row(acres=392.0, baths=6, beds=6, label=4348000.0, listing_price=4348000.0, prop_lat=39.762447, prop_lon=-107.145706, sold_price=4348000.0, year_built=2013)"
      ]
     },
     "execution_count": 53,
     "metadata": {},
     "output_type": "execute_result"
    }
   ],
   "source": [
    "prop_feature_rdd = prop_rdd.map(lambda x: feature_builder(x))\n",
    "prop_feature_rdd.first()\n",
    "# for r in prop_feature_rdd.first():\n",
    "#     print(r)"
   ]
  },
  {
   "cell_type": "code",
   "execution_count": 54,
   "metadata": {},
   "outputs": [],
   "source": [
    "prop_df = spark.createDataFrame(prop_feature_rdd)"
   ]
  },
  {
   "cell_type": "code",
   "execution_count": 55,
   "metadata": {},
   "outputs": [
    {
     "name": "stdout",
     "output_type": "stream",
     "text": [
      "+-----+-----+----+---------+-------------+---------+-----------+----------+----------+\n",
      "|acres|baths|beds|    label|listing_price| prop_lat|   prop_lon|sold_price|year_built|\n",
      "+-----+-----+----+---------+-------------+---------+-----------+----------+----------+\n",
      "|392.0|    6|   6|4348000.0|    4348000.0|39.762447|-107.145706| 4348000.0|      2013|\n",
      "| 0.17|    2|   3|      0.0|     321516.0|40.384314|-104.749922|       0.0|      2017|\n",
      "| 0.18|    3|   4|      0.0|     339500.0|40.348488|-104.715364|       0.0|      2004|\n",
      "|  3.7|    2|   4|      0.0|     585000.0| 40.44782|-105.045673|       0.0|      1920|\n",
      "|  0.0|    2|   2|      0.0|     699000.0|40.022659|-105.282547|       0.0|      1984|\n",
      "| 1.06|    0|   0|      0.0|    1150000.0| 40.18314|-105.103116|       0.0|      1963|\n",
      "|  0.0|    1|   1|      0.0|     499000.0|40.015093|-105.246062|       0.0|      2007|\n",
      "| 0.06|    1|   2| 230000.0|     234900.0|39.638392|-106.535293|  230000.0|      1975|\n",
      "| 0.13|    3|   3| 698000.0|     729000.0|39.622708|-106.497443|  698000.0|      1984|\n",
      "|35.71|    3|   3| 895000.0|     925000.0|39.677533|-106.663794|  895000.0|      1997|\n",
      "| 0.13|    4|   3| 660000.0|     660000.0| 39.62446| -106.50794|  660000.0|      1982|\n",
      "| 0.04|    5|   4| 990000.0|     999000.0|39.649049|-106.609876|  990000.0|      2004|\n",
      "| 0.05|    2|   2| 315000.0|     325000.0|39.636234|-106.537857|  315000.0|      1980|\n",
      "| 0.15|    3|   4| 495000.0|     495000.0|39.647409|-106.830977|  495000.0|      1993|\n",
      "| 0.01|    3|   3|2100000.0|    2275000.0|39.641863|-106.372749| 2100000.0|      1970|\n",
      "| 0.11|   10|   9| 950000.0|    1150000.0|39.585303|-106.428793|  950000.0|      1903|\n",
      "| 0.07|    1|   1| 252500.0|     265000.0| 39.64059|-106.525927|  252500.0|      1980|\n",
      "|  1.0|    0|   0|      0.0|      49000.0|40.395739|-104.047024|       0.0|         0|\n",
      "|  0.2|    0|   0|      0.0|      25000.0|40.226111|-104.068007|       0.0|         0|\n",
      "|  2.2|    3|   4|      0.0|     299900.0|40.116489| -104.00369|       0.0|      2001|\n",
      "+-----+-----+----+---------+-------------+---------+-----------+----------+----------+\n",
      "only showing top 20 rows\n",
      "\n"
     ]
    }
   ],
   "source": [
    "prop_df.show()"
   ]
  },
  {
   "cell_type": "code",
   "execution_count": 56,
   "metadata": {},
   "outputs": [],
   "source": [
    "clean_prop_df = prop_df.filter(prop_df.sold_price != 0.0).filter(prop_df.year_built != 0).filter(prop_df.beds != 0).filter(prop_df.baths != 0)"
   ]
  },
  {
   "cell_type": "code",
   "execution_count": 57,
   "metadata": {},
   "outputs": [
    {
     "name": "stdout",
     "output_type": "stream",
     "text": [
      "+-----+-----+----+---------+-------------+---------+-----------+----------+----------+\n",
      "|acres|baths|beds|    label|listing_price| prop_lat|   prop_lon|sold_price|year_built|\n",
      "+-----+-----+----+---------+-------------+---------+-----------+----------+----------+\n",
      "|392.0|    6|   6|4348000.0|    4348000.0|39.762447|-107.145706| 4348000.0|      2013|\n",
      "| 0.06|    1|   2| 230000.0|     234900.0|39.638392|-106.535293|  230000.0|      1975|\n",
      "| 0.13|    3|   3| 698000.0|     729000.0|39.622708|-106.497443|  698000.0|      1984|\n",
      "|35.71|    3|   3| 895000.0|     925000.0|39.677533|-106.663794|  895000.0|      1997|\n",
      "| 0.13|    4|   3| 660000.0|     660000.0| 39.62446| -106.50794|  660000.0|      1982|\n",
      "| 0.04|    5|   4| 990000.0|     999000.0|39.649049|-106.609876|  990000.0|      2004|\n",
      "| 0.05|    2|   2| 315000.0|     325000.0|39.636234|-106.537857|  315000.0|      1980|\n",
      "| 0.15|    3|   4| 495000.0|     495000.0|39.647409|-106.830977|  495000.0|      1993|\n",
      "| 0.01|    3|   3|2100000.0|    2275000.0|39.641863|-106.372749| 2100000.0|      1970|\n",
      "| 0.11|   10|   9| 950000.0|    1150000.0|39.585303|-106.428793|  950000.0|      1903|\n",
      "| 0.07|    1|   1| 252500.0|     265000.0| 39.64059|-106.525927|  252500.0|      1980|\n",
      "| 0.25|    3|   3| 499500.0|     499500.0|39.620138|-106.950181|  499500.0|      2003|\n",
      "| 0.46|    2|   3| 600000.0|     599000.0|39.509548|-106.373405|  600000.0|      1917|\n",
      "| 0.11|    3|   3| 800000.0|     845000.0|39.646904|-106.395758|  800000.0|      1979|\n",
      "| 0.45|    6|   5|1320000.0|    1399000.0|39.655387|-106.550366| 1320000.0|      2003|\n",
      "| 0.13|    4|   5| 635000.0|     644900.0|39.388783|-107.208232|  635000.0|      1998|\n",
      "|0.015|    2|   2| 175000.0|     189900.0| 38.92929|-104.834618|  175000.0|      1984|\n",
      "|0.161|    2|   3| 492300.0|     497300.0|38.856306|-104.907367|  492300.0|      2002|\n",
      "|1.432|    3|   3| 899900.0|     899900.0| 38.99156|-105.041416|  899900.0|      2016|\n",
      "|0.172|    2|   4| 385000.0|     385000.0|38.854924| -104.81194|  385000.0|      1930|\n",
      "+-----+-----+----+---------+-------------+---------+-----------+----------+----------+\n",
      "only showing top 20 rows\n",
      "\n"
     ]
    }
   ],
   "source": [
    "clean_prop_df.show()"
   ]
  },
  {
   "cell_type": "code",
   "execution_count": 58,
   "metadata": {},
   "outputs": [
    {
     "data": {
      "text/plain": [
       "2197"
      ]
     },
     "execution_count": 58,
     "metadata": {},
     "output_type": "execute_result"
    }
   ],
   "source": [
    "clean_prop_df.count()"
   ]
  },
  {
   "cell_type": "code",
   "execution_count": 59,
   "metadata": {},
   "outputs": [
    {
     "name": "stdout",
     "output_type": "stream",
     "text": [
      "+-------+------------------+------------------+------------------+-----------------+------------------+\n",
      "|summary|             acres|             baths|              beds|       sold_price|        year_built|\n",
      "+-------+------------------+------------------+------------------+-----------------+------------------+\n",
      "|  count|              2197|              2197|              2197|             2197|              2197|\n",
      "|   mean|1.2998188438780152| 3.090578060992262| 3.416021847974511|613095.4082840236|1989.8702776513428|\n",
      "| stddev|13.924289322070507|1.3242475551682544|1.1542579822137828|741892.2958216049| 22.05257450750853|\n",
      "|    min|               0.0|                 1|                 1|            895.0|              1888|\n",
      "|    max|             392.0|                11|                 9|           1.35E7|              2019|\n",
      "+-------+------------------+------------------+------------------+-----------------+------------------+\n",
      "\n"
     ]
    }
   ],
   "source": [
    "clean_prop_df.describe(['acres', 'baths', 'beds', 'sold_price', 'year_built']).show()"
   ]
  },
  {
   "cell_type": "code",
   "execution_count": 60,
   "metadata": {},
   "outputs": [
    {
     "data": {
      "image/png": "[encoded data removed]",
      "text/plain": [
       "<Figure size 720x720 with 36 Axes>"
      ]
     },
     "metadata": {
      "needs_background": "light"
     },
     "output_type": "display_data"
    }
   ],
   "source": [
    "import pandas as pd\n",
    "numeric_features = [t[0] for t in clean_prop_df.dtypes if t[1] == 'int' or t[1] == 'double']\n",
    "sampled_data = clean_prop_df.select(numeric_features).sample(False, 0.8).toPandas()\n",
    "axs = pd.plotting.scatter_matrix(sampled_data, figsize=(10, 10))\n",
    "n = len(sampled_data.columns)\n",
    "for i in range(n):\n",
    "    v = axs[i, 0]\n",
    "    v.yaxis.label.set_rotation(0)\n",
    "    v.yaxis.label.set_ha('right')\n",
    "    v.set_yticks(())\n",
    "    h = axs[n-1, i]\n",
    "    h.xaxis.label.set_rotation(90)\n",
    "    h.set_xticks(())"
   ]
  },
  {
   "cell_type": "code",
   "execution_count": 68,
   "metadata": {},
   "outputs": [
    {
     "name": "stdout",
     "output_type": "stream",
     "text": [
      "+-----+-----+----+---------+-------------+---------+-----------+----------+----------+--------------------+\n",
      "|acres|baths|beds|    label|listing_price| prop_lat|   prop_lon|sold_price|year_built|            features|\n",
      "+-----+-----+----+---------+-------------+---------+-----------+----------+----------+--------------------+\n",
      "|392.0|    6|   6|4348000.0|    4348000.0|39.762447|-107.145706| 4348000.0|      2013|[39.762447,-107.1...|\n",
      "| 0.06|    1|   2| 230000.0|     234900.0|39.638392|-106.535293|  230000.0|      1975|[39.638392,-106.5...|\n",
      "| 0.13|    3|   3| 698000.0|     729000.0|39.622708|-106.497443|  698000.0|      1984|[39.622708,-106.4...|\n",
      "+-----+-----+----+---------+-------------+---------+-----------+----------+----------+--------------------+\n",
      "only showing top 3 rows\n",
      "\n"
     ]
    }
   ],
   "source": [
    "from pyspark.ml.feature import VectorAssembler\n",
    "vectorAssembler = VectorAssembler(\n",
    "    inputCols = ['prop_lat', 'prop_lon', 'listing_price', 'year_built', 'baths', 'beds', 'acres'], \n",
    "    outputCol = 'features')\n",
    "feature_label_df = vectorAssembler.transform(clean_prop_df)\n",
    "# feature_label_df = feature_label_df.select(['features', 'label'])\n",
    "feature_label_df.show(3)"
   ]
  },
  {
   "cell_type": "code",
   "execution_count": 69,
   "metadata": {},
   "outputs": [],
   "source": [
    "splits = feature_label_df.randomSplit([0.7, 0.3])\n",
    "train_df = splits[0]\n",
    "test_df = splits[1]"
   ]
  },
  {
   "cell_type": "code",
   "execution_count": 70,
   "metadata": {},
   "outputs": [
    {
     "name": "stdout",
     "output_type": "stream",
     "text": [
      "Coefficients: [4940.169252920892,3410.959108838698,0.9434665350895698,168.13691454183294,2422.7962516603525,-5379.949949418512,0.0]\n",
      "Intercept: -143136.6672354236\n"
     ]
    }
   ],
   "source": [
    "from pyspark.ml.regression import LinearRegression\n",
    "lr = LinearRegression(featuresCol = 'features', labelCol='label', maxIter=10, regParam=0.3, elasticNetParam=0.8)\n",
    "lr_model = lr.fit(train_df)\n",
    "print(\"Coefficients: \" + str(lr_model.coefficients))\n",
    "print(\"Intercept: \" + str(lr_model.intercept))"
   ]
  },
  {
   "cell_type": "code",
   "execution_count": 71,
   "metadata": {},
   "outputs": [
    {
     "name": "stdout",
     "output_type": "stream",
     "text": [
      "RMSE: 56998.179109\n",
      "r2: 0.994625\n"
     ]
    }
   ],
   "source": [
    "trainingSummary = lr_model.summary\n",
    "print(\"RMSE: %f\" % trainingSummary.rootMeanSquaredError)\n",
    "print(\"r2: %f\" % trainingSummary.r2)"
   ]
  },
  {
   "cell_type": "code",
   "execution_count": 73,
   "metadata": {},
   "outputs": [
    {
     "name": "stdout",
     "output_type": "stream",
     "text": [
      "+------------------+---------+--------------------+\n",
      "|        prediction|    label|            features|\n",
      "+------------------+---------+--------------------+\n",
      "|  262375.050589139| 249000.0|[39.658067,-106.8...|\n",
      "|1152218.5798215189|1150000.0|[39.639105,-106.3...|\n",
      "|25919.242987342266|   1400.0|[38.925151,-104.7...|\n",
      "| 94243.47308187565|  79000.0|[39.650573,-106.6...|\n",
      "| 2175217.305567562|2070000.0|[39.644139,-106.3...|\n",
      "| 66599.78137049341|  52000.0|[38.903907,-104.7...|\n",
      "| 299145.0665157201| 287000.0|[39.604448,-106.5...|\n",
      "| 654142.0834904027| 650000.0|[39.640386,-106.3...|\n",
      "| 430169.8131273844| 425000.0|[39.633002,-106.5...|\n",
      "|  665890.116438758| 679900.0|[39.60471,-106.51...|\n",
      "+------------------+---------+--------------------+\n",
      "only showing top 10 rows\n",
      "\n",
      "R Squared (R2) on test data = 0.995987\n"
     ]
    }
   ],
   "source": [
    "lr_predictions = lr_model.transform(test_df)\n",
    "lr_predictions.select(\"prediction\",\"label\",\"features\").show(10)\n",
    "from pyspark.ml.evaluation import RegressionEvaluator\n",
    "lr_evaluator = RegressionEvaluator(predictionCol=\"prediction\", \\\n",
    "                 labelCol=\"label\",metricName=\"r2\")\n",
    "print(\"R Squared (R2) on test data = %g\" % lr_evaluator.evaluate(lr_predictions))"
   ]
  },
  {
   "cell_type": "code",
   "execution_count": 75,
   "metadata": {},
   "outputs": [
    {
     "name": "stdout",
     "output_type": "stream",
     "text": [
      "+-------------+---------+------------------+\n",
      "|listing_price|    label|        prediction|\n",
      "+-------------+---------+------------------+\n",
      "|     254000.0| 249000.0|  262375.050589139|\n",
      "|    1200000.0|1150000.0|1152218.5798215189|\n",
      "|       1400.0|   1400.0|25919.242987342266|\n",
      "|      85000.0|  79000.0| 94243.47308187565|\n",
      "|    2280000.0|2070000.0| 2175217.305567562|\n",
      "|      48900.0|  52000.0| 66599.78137049341|\n",
      "|     295000.0| 287000.0| 299145.0665157201|\n",
      "|     675000.0| 650000.0| 654142.0834904027|\n",
      "|     429900.0| 425000.0| 430169.8131273844|\n",
      "|     679900.0| 679900.0|  665890.116438758|\n",
      "|     155000.0| 155000.0|167363.49002511412|\n",
      "|     569000.0| 527500.0| 561308.4460376228|\n",
      "|     108000.0| 112000.0|123699.68194806835|\n",
      "|      99750.0| 102750.0| 116405.4115602599|\n",
      "|     172000.0| 173000.0|184472.14540125776|\n",
      "|     250000.0| 243000.0|253238.14847589706|\n",
      "|     369000.0| 365000.0| 366707.3764668843|\n",
      "|     370000.0| 350000.0|370886.84698054777|\n",
      "|     162900.0| 165000.0|173186.21783690268|\n",
      "|     299000.0| 310000.0|   297227.90762045|\n",
      "+-------------+---------+------------------+\n",
      "only showing top 20 rows\n",
      "\n"
     ]
    }
   ],
   "source": [
    "lr_predictions.select(\"listing_price\", \"label\", \"prediction\").show()"
   ]
  },
  {
   "cell_type": "code",
   "execution_count": 83,
   "metadata": {},
   "outputs": [],
   "source": [
    "data = lr_predictions.select(\"listing_price\", \"label\", \"prediction\").collect()"
   ]
  },
  {
   "cell_type": "code",
   "execution_count": 99,
   "metadata": {},
   "outputs": [],
   "source": [
    "data_dicts = [r.asDict() for r in data]"
   ]
  },
  {
   "cell_type": "code",
   "execution_count": 101,
   "metadata": {},
   "outputs": [],
   "source": [
    "def per_diff(x):\n",
    "    return abs(x['label']-x['prediction'])*100.0/x['label']\n",
    "for d in data_dicts:\n",
    "    d['per_diff'] = per_diff(d)"
   ]
  },
  {
   "cell_type": "code",
   "execution_count": 104,
   "metadata": {},
   "outputs": [],
   "source": [
    "%matplotlib inline\n",
    "import matplotlib.pyplot as plt\n",
    "plt.style.use('seaborn-whitegrid')\n",
    "import numpy as np"
   ]
  },
  {
   "cell_type": "code",
   "execution_count": 106,
   "metadata": {},
   "outputs": [
    {
     "data": {
      "image/png": "[encoded data removed]",
      "text/plain": [
       "<Figure size 432x288 with 1 Axes>"
      ]
     },
     "metadata": {},
     "output_type": "display_data"
    }
   ],
   "source": [
    "x = [d['listing_price'] for d in data_dicts]\n",
    "y = [d['per_diff'] for d in data_dicts]\n",
    "\n",
    "plt.semilogx(x, y, 'o', color='black');"
   ]
  },
  {
   "cell_type": "code",
   "execution_count": 96,
   "metadata": {},
   "outputs": [],
   "source": []
  },
  {
   "cell_type": "code",
   "execution_count": null,
   "metadata": {},
   "outputs": [],
   "source": []
  }
 ],
 "metadata": {
  "kernelspec": {
   "display_name": "Python 3",
   "language": "python",
   "name": "python3"
  },
  "language_info": {
   "codemirror_mode": {
    "name": "ipython",
    "version": 3
   },
   "file_extension": ".py",
   "mimetype": "text/x-python",
   "name": "python",
   "nbconvert_exporter": "python",
   "pygments_lexer": "ipython3",
   "version": "3.7.6"
  }
 },
 "nbformat": 4,
 "nbformat_minor": 4
}
