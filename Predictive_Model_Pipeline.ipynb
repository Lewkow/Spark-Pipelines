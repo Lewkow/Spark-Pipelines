{
 "cells": [
  {
   "cell_type": "code",
   "execution_count": 1,
   "metadata": {},
   "outputs": [],
   "source": [
    "import requests\n",
    "import json\n",
    "import numpy as np\n",
    "from ES import ES as es\n",
    "from pyspark.sql import SparkSession, Row\n",
    "from pyspark.ml.linalg import Vectors\n",
    "from pyspark import SparkContext, SparkConf\n",
    "\n",
    "conf = SparkConf().setAppName(\"testapp\")\n",
    "sc = SparkContext(conf=conf)\n",
    "spark = SparkSession.builder \\\n",
    "    .master(\"local\") \\\n",
    "    .appName(\"testapp\") \\\n",
    "    .getOrCreate()"
   ]
  },
  {
   "cell_type": "code",
   "execution_count": 2,
   "metadata": {},
   "outputs": [
    {
     "data": {
      "text/plain": [
       "'2.4.5'"
      ]
     },
     "execution_count": 2,
     "metadata": {},
     "output_type": "execute_result"
    }
   ],
   "source": [
    "sc.version"
   ]
  },
  {
   "cell_type": "code",
   "execution_count": 3,
   "metadata": {},
   "outputs": [],
   "source": [
    "lines = sc.textFile(\"README.md\")\n",
    "lineLengths = lines.map(lambda s: len(s))\n",
    "totalLength = lineLengths.reduce(lambda a, b: a + b)"
   ]
  },
  {
   "cell_type": "code",
   "execution_count": 4,
   "metadata": {},
   "outputs": [
    {
     "name": "stdout",
     "output_type": "stream",
     "text": [
      "# Spark-Pipelines\n",
      "\n",
      "## Setup\n",
      "1) Install docker to run spark notebook server https://www.docker.com/\n",
      "2) Copy the example config and enter elasticsearch uri\n",
      "```\n",
      "$ cp config.json.example config.json\n",
      "```\n",
      "3) Start spark server\n",
      "```\n",
      "$ ./start.sh\n",
      "```\n",
      "4) Copy the local url that is printed to the command line into the browser\n",
      "\n"
     ]
    }
   ],
   "source": [
    "for ln in lines.take(20):\n",
    "    print(ln)"
   ]
  },
  {
   "cell_type": "code",
   "execution_count": 5,
   "metadata": {},
   "outputs": [],
   "source": [
    "query = {\n",
    "            \"size\": 10000,\n",
    "             \"query\": {\n",
    "                \"bool\": {\n",
    "                    \"must\": [\n",
    "                        {\n",
    "                            \"term\": {\n",
    "                                \"enhancement.IDENTIFIERS.SIGNATURE_ID\": {\n",
    "                                    \"value\": \"198\"\n",
    "                                }\n",
    "                            }\n",
    "                        },\n",
    "                        {\n",
    "                            \"range\": {\n",
    "                                \"pipeline.lambda\": {\n",
    "                                    \"gte\": \"2019-01-01T00:00:52Z\"\n",
    "                                }\n",
    "                            }\n",
    "                        },\n",
    "                        {\n",
    "                            \"term\": {\n",
    "                                \"application_id\": {\n",
    "                                    \"value\": \"3\"\n",
    "                                }\n",
    "                            }\n",
    "                        },\n",
    "                        {\n",
    "                            \"term\": {\n",
    "                                \"property_state\": {\n",
    "                                    \"value\": \"CO\"\n",
    "                                }\n",
    "                            }\n",
    "                        }\n",
    "                    ]\n",
    "                }\n",
    "             }\n",
    "        }"
   ]
  },
  {
   "cell_type": "code",
   "execution_count": 6,
   "metadata": {},
   "outputs": [],
   "source": [
    "db = es()"
   ]
  },
  {
   "cell_type": "code",
   "execution_count": 7,
   "metadata": {},
   "outputs": [
    {
     "name": "stdout",
     "output_type": "stream",
     "text": [
      "scroll_size: 3161\n"
     ]
    }
   ],
   "source": [
    "response = db.get_data_from_ES_prod_scroll(query)"
   ]
  },
  {
   "cell_type": "code",
   "execution_count": 8,
   "metadata": {},
   "outputs": [],
   "source": [
    "prop_list = []\n",
    "for i in range(len(response)):\n",
    "    for j in range(len(response[i]['hits']['hits'])):\n",
    "        prop_list.append(response[i]['hits']['hits'][j])"
   ]
  },
  {
   "cell_type": "code",
   "execution_count": 9,
   "metadata": {},
   "outputs": [
    {
     "name": "stdout",
     "output_type": "stream",
     "text": [
      "3161\n"
     ]
    }
   ],
   "source": [
    "print(len(prop_list))"
   ]
  },
  {
   "cell_type": "code",
   "execution_count": 10,
   "metadata": {},
   "outputs": [],
   "source": [
    "prop_rdd = sc.parallelize(prop_list)"
   ]
  },
  {
   "cell_type": "code",
   "execution_count": 11,
   "metadata": {},
   "outputs": [
    {
     "data": {
      "text/plain": [
       "3161"
      ]
     },
     "execution_count": 11,
     "metadata": {},
     "output_type": "execute_result"
    }
   ],
   "source": [
    "prop_rdd.count()"
   ]
  },
  {
   "cell_type": "code",
   "execution_count": 12,
   "metadata": {},
   "outputs": [],
   "source": [
    "def feature_builder(x):\n",
    "    def cleaner(z):\n",
    "        return 0 if z is None else z\n",
    "\n",
    "    prop_lat =      float(cleaner(x.get('_source', {}).get('prop_latitude', 0.0)))\n",
    "    prop_lon =      float(cleaner(x.get('_source', {}).get('prop_longitude', 0.0)))\n",
    "    listing_price = float(cleaner(x.get('_source', {}).get('prop_listprice_i', 0.0)))\n",
    "    sold_price =    float(cleaner(x.get('_source', {}).get('sold_price', 0.0)))\n",
    "    acres =         float(cleaner(x.get('_source', {}).get('prop_acres', 0.0)))\n",
    "    year_built =    int(cleaner(x.get('_source', {}).get('prop_yearbuilt', 0)))\n",
    "    baths =         int(cleaner(x.get('_source', {}).get('total_baths', 0)))\n",
    "    beds =          int(cleaner(x.get('_source', {}).get('prop_beds', 0)))\n",
    "    \n",
    "    feature_row = Row(\n",
    "        prop_lat=prop_lat,\n",
    "        prop_lon=prop_lon,\n",
    "        sold_price=sold_price,\n",
    "        year_built=year_built,\n",
    "        baths=baths,\n",
    "        beds=beds,\n",
    "        acres=acres,\n",
    "        listing_price=listing_price,\n",
    "        label=sold_price\n",
    "\n",
    "    )\n",
    "    return feature_row"
   ]
  },
  {
   "cell_type": "code",
   "execution_count": 13,
   "metadata": {},
   "outputs": [
    {
     "data": {
      "text/plain": [
       "[Row(acres=0.17, baths=2, beds=3, label=0.0, listing_price=321516.0, prop_lat=40.384314, prop_lon=-104.749922, sold_price=0.0, year_built=2017),\n",
       " Row(acres=0.18, baths=3, beds=4, label=0.0, listing_price=339500.0, prop_lat=40.348488, prop_lon=-104.715364, sold_price=0.0, year_built=2004),\n",
       " Row(acres=3.7, baths=2, beds=4, label=0.0, listing_price=585000.0, prop_lat=40.44782, prop_lon=-105.045673, sold_price=0.0, year_built=1920),\n",
       " Row(acres=0.0, baths=2, beds=2, label=0.0, listing_price=699000.0, prop_lat=40.022659, prop_lon=-105.282547, sold_price=0.0, year_built=1984),\n",
       " Row(acres=1.06, baths=0, beds=0, label=0.0, listing_price=1150000.0, prop_lat=40.18314, prop_lon=-105.103116, sold_price=0.0, year_built=1963)]"
      ]
     },
     "execution_count": 13,
     "metadata": {},
     "output_type": "execute_result"
    }
   ],
   "source": [
    "prop_feature_rdd = prop_rdd.map(lambda x: feature_builder(x))\n",
    "prop_feature_rdd.take(5)"
   ]
  },
  {
   "cell_type": "code",
   "execution_count": 14,
   "metadata": {},
   "outputs": [],
   "source": [
    "prop_df = spark.createDataFrame(prop_feature_rdd)"
   ]
  },
  {
   "cell_type": "code",
   "execution_count": 15,
   "metadata": {},
   "outputs": [
    {
     "name": "stdout",
     "output_type": "stream",
     "text": [
      "+-----+-----+----+-----+-------------+---------+-----------+----------+----------+\n",
      "|acres|baths|beds|label|listing_price| prop_lat|   prop_lon|sold_price|year_built|\n",
      "+-----+-----+----+-----+-------------+---------+-----------+----------+----------+\n",
      "| 0.17|    2|   3|  0.0|     321516.0|40.384314|-104.749922|       0.0|      2017|\n",
      "| 0.18|    3|   4|  0.0|     339500.0|40.348488|-104.715364|       0.0|      2004|\n",
      "|  3.7|    2|   4|  0.0|     585000.0| 40.44782|-105.045673|       0.0|      1920|\n",
      "|  0.0|    2|   2|  0.0|     699000.0|40.022659|-105.282547|       0.0|      1984|\n",
      "| 1.06|    0|   0|  0.0|    1150000.0| 40.18314|-105.103116|       0.0|      1963|\n",
      "|  0.0|    1|   1|  0.0|     499000.0|40.015093|-105.246062|       0.0|      2007|\n",
      "|  1.0|    0|   0|  0.0|      49000.0|40.395739|-104.047024|       0.0|         0|\n",
      "|  0.2|    0|   0|  0.0|      25000.0|40.226111|-104.068007|       0.0|         0|\n",
      "|  2.2|    3|   4|  0.0|     299900.0|40.116489| -104.00369|       0.0|      2001|\n",
      "| 0.45|    0|   0|  0.0|      30000.0|40.227694|-104.070995|       0.0|         0|\n",
      "| 0.23|    3|   3|  0.0|     435000.0| 39.67066| -105.08666|       0.0|      1967|\n",
      "| 0.15|    1|   2|  0.0|     145000.0| 40.25156| -103.81469|       0.0|      1939|\n",
      "| 0.14|    2|   3|  0.0|     300000.0| 39.91464| -104.92581|       0.0|      1994|\n",
      "| 0.37|    0|   0|  0.0|      50000.0|40.349807|-104.062771|       0.0|      1899|\n",
      "| 7.56|    0|   0|  0.0|      98900.0|40.218853|-104.089872|       0.0|         0|\n",
      "| 0.48|    4|   7|  0.0|     225000.0|  40.2279|-104.078356|       0.0|      1970|\n",
      "| 0.09|    1|   2|  0.0|     265000.0| 39.87851|-104.922795|       0.0|      1999|\n",
      "|  0.2|    2|   3|  0.0|     175000.0|40.367683|-104.753073|       0.0|      1985|\n",
      "|17.74|    5|   5|  0.0|    2845000.0| 40.02005| -105.13472|       0.0|      2001|\n",
      "| 0.21|    2|   5|  0.0|     315000.0| 40.38295| -105.10259|       0.0|      1966|\n",
      "+-----+-----+----+-----+-------------+---------+-----------+----------+----------+\n",
      "only showing top 20 rows\n",
      "\n"
     ]
    }
   ],
   "source": [
    "prop_df.show()"
   ]
  },
  {
   "cell_type": "code",
   "execution_count": 16,
   "metadata": {},
   "outputs": [],
   "source": [
    "clean_prop_df = prop_df.filter(prop_df.sold_price != 0.0).filter(prop_df.year_built != 0).filter(prop_df.beds != 0).filter(prop_df.baths != 0)"
   ]
  },
  {
   "cell_type": "code",
   "execution_count": 17,
   "metadata": {},
   "outputs": [
    {
     "name": "stdout",
     "output_type": "stream",
     "text": [
      "+-----+-----+----+--------+-------------+---------+-----------+----------+----------+\n",
      "|acres|baths|beds|   label|listing_price| prop_lat|   prop_lon|sold_price|year_built|\n",
      "+-----+-----+----+--------+-------------+---------+-----------+----------+----------+\n",
      "| 0.13|    4|   5|635000.0|     644900.0|39.388783|-107.208232|  635000.0|      1998|\n",
      "|0.015|    2|   2|175000.0|     189900.0| 38.92929|-104.834618|  175000.0|      1984|\n",
      "|0.161|    2|   3|492300.0|     497300.0|38.856306|-104.907367|  492300.0|      2002|\n",
      "|1.432|    3|   3|899900.0|     899900.0| 38.99156|-105.041416|  899900.0|      2016|\n",
      "|0.172|    2|   4|385000.0|     385000.0|38.854924| -104.81194|  385000.0|      1930|\n",
      "|0.178|    3|   3|422500.0|     435000.0|39.086479|-104.853298|  422500.0|      2009|\n",
      "| 0.52|    2|   3|285000.0|     295000.0|38.477249|-105.244151|  285000.0|      2001|\n",
      "|0.167|    4|   4|455000.0|     455000.0|38.981421|-104.602315|  455000.0|      2004|\n",
      "|0.189|    2|   4|237000.0|     275000.0|38.848105|-104.740862|  237000.0|      1967|\n",
      "|0.138|    2|   3|  1425.0|       1425.0|38.773333|-104.804679|    1425.0|      1993|\n",
      "|0.206|    2|   3|250000.0|     250000.0|38.852061|-104.704682|  250000.0|      1984|\n",
      "| 0.15|    4|   5|452500.0|     459900.0|38.970584|-104.737073|  452500.0|      2009|\n",
      "|0.145|    3|   4|439500.0|     444900.0|38.965794|-104.735234|  439500.0|      2006|\n",
      "|0.314|    4|   5|489000.0|     500000.0|38.932132|-104.745549|  489000.0|      1999|\n",
      "|0.158|    3|   4|485000.0|     485000.0| 39.00136|-104.804431|  485000.0|      2017|\n",
      "| 0.13|    4|   6|415000.0|     420000.0|38.921445|-104.690167|  415000.0|      2012|\n",
      "|0.133|    4|   4|335000.0|     335000.0|38.914973|-104.692126|  335000.0|      2003|\n",
      "|0.152|    3|   3|  1595.0|       1595.0|38.782412|-104.733466|    1595.0|      2004|\n",
      "|0.159|    4|   4|568000.0|     599000.0|38.887055|-104.899442|  568000.0|      1995|\n",
      "|0.033|    3|   3|258000.0|     255000.0|38.885726|-104.724638|  258000.0|      2005|\n",
      "+-----+-----+----+--------+-------------+---------+-----------+----------+----------+\n",
      "only showing top 20 rows\n",
      "\n"
     ]
    }
   ],
   "source": [
    "clean_prop_df.show()"
   ]
  },
  {
   "cell_type": "code",
   "execution_count": 18,
   "metadata": {},
   "outputs": [
    {
     "data": {
      "text/plain": [
       "2462"
      ]
     },
     "execution_count": 18,
     "metadata": {},
     "output_type": "execute_result"
    }
   ],
   "source": [
    "clean_prop_df.count()"
   ]
  },
  {
   "cell_type": "code",
   "execution_count": 19,
   "metadata": {},
   "outputs": [
    {
     "name": "stdout",
     "output_type": "stream",
     "text": [
      "+-------+------------------+-----------------+------------------+-----------------+------------------+\n",
      "|summary|             acres|            baths|              beds|       sold_price|        year_built|\n",
      "+-------+------------------+-----------------+------------------+-----------------+------------------+\n",
      "|  count|              2462|             2462|              2462|             2462|              2462|\n",
      "|   mean|  1.06246466287571|3.065800162469537|3.3407798537774167|591886.6177904143|1990.4248578391553|\n",
      "| stddev|10.601819673386618|1.285264907020724|1.1486588654705956|740604.1907683788| 21.27238261142315|\n",
      "|    min|               0.0|                1|                 1|            895.0|              1888|\n",
      "|    max|            345.68|               11|                 8|           1.35E7|              2019|\n",
      "+-------+------------------+-----------------+------------------+-----------------+------------------+\n",
      "\n"
     ]
    }
   ],
   "source": [
    "clean_prop_df.describe(['acres', 'baths', 'beds', 'sold_price', 'year_built']).show()"
   ]
  },
  {
   "cell_type": "code",
   "execution_count": 20,
   "metadata": {},
   "outputs": [
    {
     "data": {
      "image/png": "[encoded data removed]",
      "text/plain": [
       "<Figure size 720x720 with 36 Axes>"
      ]
     },
     "metadata": {
      "needs_background": "light"
     },
     "output_type": "display_data"
    }
   ],
   "source": [
    "import pandas as pd\n",
    "numeric_features = [t[0] for t in clean_prop_df.dtypes if t[1] == 'int' or t[1] == 'double']\n",
    "sampled_data = clean_prop_df.select(numeric_features).sample(False, 0.8).toPandas()\n",
    "axs = pd.plotting.scatter_matrix(sampled_data, figsize=(10, 10))\n",
    "n = len(sampled_data.columns)\n",
    "for i in range(n):\n",
    "    v = axs[i, 0]\n",
    "    v.yaxis.label.set_rotation(0)\n",
    "    v.yaxis.label.set_ha('right')\n",
    "    v.set_yticks(())\n",
    "    h = axs[n-1, i]\n",
    "    h.xaxis.label.set_rotation(90)\n",
    "    h.set_xticks(())"
   ]
  },
  {
   "cell_type": "code",
   "execution_count": 21,
   "metadata": {},
   "outputs": [
    {
     "name": "stdout",
     "output_type": "stream",
     "text": [
      "+-----+-----+----+--------+-------------+---------+-----------+----------+----------+--------------------+\n",
      "|acres|baths|beds|   label|listing_price| prop_lat|   prop_lon|sold_price|year_built|            features|\n",
      "+-----+-----+----+--------+-------------+---------+-----------+----------+----------+--------------------+\n",
      "| 0.13|    4|   5|635000.0|     644900.0|39.388783|-107.208232|  635000.0|      1998|[39.388783,-107.2...|\n",
      "|0.015|    2|   2|175000.0|     189900.0| 38.92929|-104.834618|  175000.0|      1984|[38.92929,-104.83...|\n",
      "|0.161|    2|   3|492300.0|     497300.0|38.856306|-104.907367|  492300.0|      2002|[38.856306,-104.9...|\n",
      "+-----+-----+----+--------+-------------+---------+-----------+----------+----------+--------------------+\n",
      "only showing top 3 rows\n",
      "\n"
     ]
    }
   ],
   "source": [
    "from pyspark.ml.feature import VectorAssembler\n",
    "vectorAssembler = VectorAssembler(\n",
    "    inputCols = ['prop_lat', 'prop_lon', 'listing_price', 'year_built', 'baths', 'beds', 'acres'], \n",
    "    outputCol = 'features')\n",
    "feature_label_df = vectorAssembler.transform(clean_prop_df)\n",
    "feature_label_df.show(3)"
   ]
  },
  {
   "cell_type": "code",
   "execution_count": 22,
   "metadata": {},
   "outputs": [],
   "source": [
    "splits = feature_label_df.randomSplit([0.7, 0.3])\n",
    "train_df = splits[0]\n",
    "test_df = splits[1]"
   ]
  },
  {
   "cell_type": "code",
   "execution_count": 23,
   "metadata": {},
   "outputs": [
    {
     "name": "stdout",
     "output_type": "stream",
     "text": [
      "Coefficients: [21500.430265930383,9070.573229106063,0.9374539762794989,77.45948674237222,1139.5980732313492,-5679.121593241336,-519.0729760658636]\n",
      "Intercept: -8127.300898123857\n"
     ]
    }
   ],
   "source": [
    "from pyspark.ml.regression import LinearRegression\n",
    "lr = LinearRegression(featuresCol = 'features', labelCol='label', maxIter=10, regParam=0.3, elasticNetParam=0.8)\n",
    "lr_model = lr.fit(train_df)\n",
    "print(\"Coefficients: \" + str(lr_model.coefficients))\n",
    "print(\"Intercept: \" + str(lr_model.intercept))"
   ]
  },
  {
   "cell_type": "code",
   "execution_count": 24,
   "metadata": {},
   "outputs": [
    {
     "name": "stdout",
     "output_type": "stream",
     "text": [
      "RMSE: 50895.599226\n",
      "r2: 0.994803\n"
     ]
    }
   ],
   "source": [
    "trainingSummary = lr_model.summary\n",
    "print(\"RMSE: %f\" % trainingSummary.rootMeanSquaredError)\n",
    "print(\"r2: %f\" % trainingSummary.r2)"
   ]
  },
  {
   "cell_type": "code",
   "execution_count": 25,
   "metadata": {},
   "outputs": [
    {
     "name": "stdout",
     "output_type": "stream",
     "text": [
      "+------------------+---------+--------------------+\n",
      "|        prediction|    label|            features|\n",
      "+------------------+---------+--------------------+\n",
      "| 264541.3109664302| 249000.0|[39.657988,-106.8...|\n",
      "| 186501.3565558712| 150000.0|[39.632311,-106.2...|\n",
      "|1153221.1445071136|1150000.0|[39.639252,-106.3...|\n",
      "| 26839.12853492465|   1325.0|[38.922667,-104.7...|\n",
      "|28141.455810410855|   4000.0|[39.605504,-106.5...|\n",
      "| 193710.9780962287| 196000.0|[39.408578,-107.1...|\n",
      "|436889.22122152196| 435000.0|[39.639703,-106.8...|\n",
      "| 628122.7578511507| 620000.0|[39.639562,-106.5...|\n",
      "|  72122.3133221084|  52000.0|[38.903907,-104.7...|\n",
      "|330531.65286824544| 314000.0|[39.604097,-106.5...|\n",
      "+------------------+---------+--------------------+\n",
      "only showing top 10 rows\n",
      "\n",
      "R Squared (R2) on test data = 0.997415\n"
     ]
    }
   ],
   "source": [
    "lr_predictions = lr_model.transform(test_df)\n",
    "lr_predictions.select(\"prediction\",\"label\",\"features\").show(10)\n",
    "from pyspark.ml.evaluation import RegressionEvaluator\n",
    "lr_evaluator = RegressionEvaluator(predictionCol=\"prediction\", \\\n",
    "                 labelCol=\"label\",metricName=\"r2\")\n",
    "print(\"R Squared (R2) on test data = %g\" % lr_evaluator.evaluate(lr_predictions))"
   ]
  },
  {
   "cell_type": "code",
   "execution_count": 26,
   "metadata": {},
   "outputs": [
    {
     "name": "stdout",
     "output_type": "stream",
     "text": [
      "+-------------+---------+------------------+\n",
      "|listing_price|    label|        prediction|\n",
      "+-------------+---------+------------------+\n",
      "|     254000.0| 249000.0| 264541.3109664302|\n",
      "|     175000.0| 150000.0| 186501.3565558712|\n",
      "|    1200000.0|1150000.0|1153221.1445071136|\n",
      "|       1325.0|   1325.0| 26839.12853492465|\n",
      "|       5000.0|   4000.0|28141.455810410855|\n",
      "|     199900.0| 196000.0| 193710.9780962287|\n",
      "|     448000.0| 435000.0|436889.22122152196|\n",
      "|     649000.0| 620000.0| 628122.7578511507|\n",
      "|      48900.0|  52000.0|  72122.3133221084|\n",
      "|     324000.0| 314000.0|330531.65286824544|\n",
      "|     429900.0| 425000.0| 431774.4817859917|\n",
      "|     625000.0| 620000.0| 614671.7525581218|\n",
      "|      29000.0|  25000.0| 50103.65556270979|\n",
      "|      99750.0| 102750.0|116251.31414873403|\n",
      "|     189900.0| 175000.0|200574.40319237896|\n",
      "|     250000.0| 243000.0|250332.41502976458|\n",
      "|     369000.0| 365000.0| 373341.0716888966|\n",
      "|     529000.0| 525000.0| 518240.0829155189|\n",
      "|      12000.0|  12000.0|29014.130591604695|\n",
      "|      13500.0|  12000.0|30420.311556023935|\n",
      "+-------------+---------+------------------+\n",
      "only showing top 20 rows\n",
      "\n"
     ]
    }
   ],
   "source": [
    "lr_predictions.select(\"listing_price\", \"label\", \"prediction\").show()"
   ]
  },
  {
   "cell_type": "code",
   "execution_count": 27,
   "metadata": {},
   "outputs": [],
   "source": [
    "data = lr_predictions.select(\"listing_price\", \"label\", \"prediction\").collect()"
   ]
  },
  {
   "cell_type": "code",
   "execution_count": 28,
   "metadata": {},
   "outputs": [],
   "source": [
    "data_dicts = [r.asDict() for r in data]"
   ]
  },
  {
   "cell_type": "code",
   "execution_count": 29,
   "metadata": {},
   "outputs": [],
   "source": [
    "def per_diff(x):\n",
    "    return abs(x['label']-x['prediction'])*100.0/x['label']\n",
    "for d in data_dicts:\n",
    "    d['per_diff'] = per_diff(d)"
   ]
  },
  {
   "cell_type": "code",
   "execution_count": 30,
   "metadata": {},
   "outputs": [],
   "source": [
    "%matplotlib inline\n",
    "import matplotlib.pyplot as plt\n",
    "plt.style.use('seaborn-whitegrid')\n",
    "import numpy as np"
   ]
  },
  {
   "cell_type": "code",
   "execution_count": 31,
   "metadata": {},
   "outputs": [
    {
     "data": {
      "image/png": "[encoded data removed]",
      "text/plain": [
       "<Figure size 720x720 with 1 Axes>"
      ]
     },
     "metadata": {},
     "output_type": "display_data"
    }
   ],
   "source": [
    "x = [d['listing_price'] for d in data_dicts]\n",
    "y = [d['per_diff'] for d in data_dicts]\n",
    "plt.figure(figsize=(10,10))\n",
    "plt.semilogx(x, y, 'o', color='black')\n",
    "plt.xlabel(\"Sold Price\")\n",
    "plt.ylabel(\"Prediction Percent Error\")\n",
    "plt.show()"
   ]
  }
 ],
 "metadata": {
  "kernelspec": {
   "display_name": "Python 3",
   "language": "python",
   "name": "python3"
  },
  "language_info": {
   "codemirror_mode": {
    "name": "ipython",
    "version": 3
   },
   "file_extension": ".py",
   "mimetype": "text/x-python",
   "name": "python",
   "nbconvert_exporter": "python",
   "pygments_lexer": "ipython3",
   "version": "3.7.6"
  }
 },
 "nbformat": 4,
 "nbformat_minor": 4
}
